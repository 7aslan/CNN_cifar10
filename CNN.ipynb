{
 "cells": [
  {
   "cell_type": "code",
   "execution_count": 1,
   "id": "5b06f40c",
   "metadata": {},
   "outputs": [],
   "source": [
    "import os \n",
    "os.environ[\"TF_CPP_MIN_LOG_LEVEL\"] = \"2\"\n",
    "import tensorflow as tf\n",
    "from tensorflow import keras\n",
    "from tensorflow.keras import layers\n",
    "import matplotlib.pyplot as plt"
   ]
  },
  {
   "cell_type": "code",
   "execution_count": 2,
   "id": "4b66e1df",
   "metadata": {},
   "outputs": [
    {
     "name": "stdout",
     "output_type": "stream",
     "text": [
      "(50000, 32, 32, 3)\n"
     ]
    }
   ],
   "source": [
    "#loading dataset\n",
    "cifar10=keras.datasets.cifar10\n",
    "(train_images , train_labels), (test_images , test_labels) = cifar10.load_data()\n",
    "print(train_images.shape)"
   ]
  },
  {
   "cell_type": "code",
   "execution_count": 3,
   "id": "0286b1c7",
   "metadata": {},
   "outputs": [],
   "source": [
    "#normalizing\n",
    "train_images, test_images = train_images / 255.0 , test_images/255.0\n"
   ]
  },
  {
   "cell_type": "code",
   "execution_count": 4,
   "id": "b539e855",
   "metadata": {},
   "outputs": [],
   "source": [
    "class_names = [\"airplane\",\"automobile\",\"bird\",\"cat\",\"deer\",\"dog\",\"frog\",\"horse\",\"ship\",\"truck\"]"
   ]
  },
  {
   "cell_type": "code",
   "execution_count": 5,
   "id": "445a5c25",
   "metadata": {},
   "outputs": [
    {
     "name": "stdout",
     "output_type": "stream",
     "text": [
      "Model: \"sequential\"\n",
      "_________________________________________________________________\n",
      " Layer (type)                Output Shape              Param #   \n",
      "=================================================================\n",
      " conv2d (Conv2D)             (None, 30, 30, 32)        896       \n",
      "                                                                 \n",
      " max_pooling2d (MaxPooling2D  (None, 15, 15, 32)       0         \n",
      " )                                                               \n",
      "                                                                 \n",
      " conv2d_1 (Conv2D)           (None, 13, 13, 32)        9248      \n",
      "                                                                 \n",
      " max_pooling2d_1 (MaxPooling  (None, 6, 6, 32)         0         \n",
      " 2D)                                                             \n",
      "                                                                 \n",
      " flatten (Flatten)           (None, 1152)              0         \n",
      "                                                                 \n",
      " dense (Dense)               (None, 64)                73792     \n",
      "                                                                 \n",
      " dense_1 (Dense)             (None, 10)                650       \n",
      "                                                                 \n",
      "=================================================================\n",
      "Total params: 84,586\n",
      "Trainable params: 84,586\n",
      "Non-trainable params: 0\n",
      "_________________________________________________________________\n",
      "None\n"
     ]
    }
   ],
   "source": [
    "#model\n",
    "model = keras.models.Sequential()\n",
    "model.add(layers.Conv2D(32, (3,3), strides=(1,1) , padding=\"valid\", activation=\"relu\", input_shape=(32,32,3)))\n",
    "model.add(layers.MaxPool2D((2,2)))\n",
    "model.add(layers.Conv2D(32,3,activation=\"relu\"))\n",
    "model.add(layers.MaxPool2D((2,2)))\n",
    "\n",
    "model.add(layers.Flatten())\n",
    "model.add(layers.Dense(64, activation=\"relu\"))\n",
    "model.add(layers.Dense(10))\n",
    "print(model.summary())"
   ]
  },
  {
   "cell_type": "code",
   "execution_count": 6,
   "id": "7dc87352",
   "metadata": {},
   "outputs": [],
   "source": [
    "#loss and Optimizer\n",
    "loss = keras.losses.SparseCategoricalCrossentropy(from_logits=True)\n",
    "optimizer=keras.optimizers.Adam(learning_rate=0.001)\n",
    "metrics=[\"accuracy\"]\n",
    "model.compile(optimizer=optimizer , loss=loss, metrics = metrics)"
   ]
  },
  {
   "cell_type": "code",
   "execution_count": 10,
   "id": "3f853c1d",
   "metadata": {},
   "outputs": [
    {
     "name": "stdout",
     "output_type": "stream",
     "text": [
      "Epoch 1/20\n",
      "782/782 - 3s - loss: 0.7865 - accuracy: 0.7271 - 3s/epoch - 4ms/step\n",
      "Epoch 2/20\n",
      "782/782 - 3s - loss: 0.7586 - accuracy: 0.7362 - 3s/epoch - 4ms/step\n",
      "Epoch 3/20\n",
      "782/782 - 3s - loss: 0.7374 - accuracy: 0.7427 - 3s/epoch - 4ms/step\n",
      "Epoch 4/20\n",
      "782/782 - 3s - loss: 0.7115 - accuracy: 0.7503 - 3s/epoch - 4ms/step\n",
      "Epoch 5/20\n",
      "782/782 - 3s - loss: 0.6924 - accuracy: 0.7575 - 3s/epoch - 4ms/step\n",
      "Epoch 6/20\n",
      "782/782 - 3s - loss: 0.6694 - accuracy: 0.7662 - 3s/epoch - 4ms/step\n",
      "Epoch 7/20\n",
      "782/782 - 3s - loss: 0.6496 - accuracy: 0.7745 - 3s/epoch - 4ms/step\n",
      "Epoch 8/20\n",
      "782/782 - 4s - loss: 0.6312 - accuracy: 0.7810 - 4s/epoch - 5ms/step\n",
      "Epoch 9/20\n",
      "782/782 - 4s - loss: 0.6122 - accuracy: 0.7858 - 4s/epoch - 5ms/step\n",
      "Epoch 10/20\n",
      "782/782 - 3s - loss: 0.5949 - accuracy: 0.7929 - 3s/epoch - 4ms/step\n",
      "Epoch 11/20\n",
      "782/782 - 3s - loss: 0.5761 - accuracy: 0.7996 - 3s/epoch - 4ms/step\n",
      "Epoch 12/20\n",
      "782/782 - 4s - loss: 0.5615 - accuracy: 0.8037 - 4s/epoch - 4ms/step\n",
      "Epoch 13/20\n",
      "782/782 - 4s - loss: 0.5484 - accuracy: 0.8095 - 4s/epoch - 5ms/step\n",
      "Epoch 14/20\n",
      "782/782 - 3s - loss: 0.5327 - accuracy: 0.8138 - 3s/epoch - 4ms/step\n",
      "Epoch 15/20\n",
      "782/782 - 3s - loss: 0.5139 - accuracy: 0.8201 - 3s/epoch - 4ms/step\n",
      "Epoch 16/20\n",
      "782/782 - 4s - loss: 0.5043 - accuracy: 0.8238 - 4s/epoch - 5ms/step\n",
      "Epoch 17/20\n",
      "782/782 - 6s - loss: 0.4895 - accuracy: 0.8289 - 6s/epoch - 7ms/step\n",
      "Epoch 18/20\n",
      "782/782 - 4s - loss: 0.4760 - accuracy: 0.8335 - 4s/epoch - 5ms/step\n",
      "Epoch 19/20\n",
      "782/782 - 4s - loss: 0.4661 - accuracy: 0.8366 - 4s/epoch - 5ms/step\n",
      "Epoch 20/20\n",
      "782/782 - 3s - loss: 0.4524 - accuracy: 0.8415 - 3s/epoch - 4ms/step\n"
     ]
    },
    {
     "data": {
      "text/plain": [
       "<keras.callbacks.History at 0x22af3432580>"
      ]
     },
     "execution_count": 10,
     "metadata": {},
     "output_type": "execute_result"
    }
   ],
   "source": [
    "#training\n",
    "batch_size=64\n",
    "epochs=20\n",
    "\n",
    "model.fit(train_images, train_labels, epochs=epochs,\n",
    "          batch_size= batch_size, verbose =2)"
   ]
  },
  {
   "cell_type": "code",
   "execution_count": 11,
   "id": "53ef5a1e",
   "metadata": {},
   "outputs": [
    {
     "name": "stdout",
     "output_type": "stream",
     "text": [
      "157/157 - 1s - loss: 1.1169 - accuracy: 0.6842 - 673ms/epoch - 4ms/step\n"
     ]
    },
    {
     "data": {
      "text/plain": [
       "[1.1169242858886719, 0.6841999888420105]"
      ]
     },
     "execution_count": 11,
     "metadata": {},
     "output_type": "execute_result"
    }
   ],
   "source": [
    "model.evaluate(test_images, test_labels, batch_size=batch_size, verbose = 2)"
   ]
  },
  {
   "cell_type": "code",
   "execution_count": null,
   "id": "a9dfc97b-4619-4c2d-9f92-98144ef7e54d",
   "metadata": {},
   "outputs": [],
   "source": []
  }
 ],
 "metadata": {
  "kernelspec": {
   "display_name": "GPUEnv",
   "language": "python",
   "name": "gpuenv"
  },
  "language_info": {
   "codemirror_mode": {
    "name": "ipython",
    "version": 3
   },
   "file_extension": ".py",
   "mimetype": "text/x-python",
   "name": "python",
   "nbconvert_exporter": "python",
   "pygments_lexer": "ipython3",
   "version": "3.9.12"
  }
 },
 "nbformat": 4,
 "nbformat_minor": 5
}
